{
 "cells": [
  {
   "cell_type": "code",
   "execution_count": 1,
   "metadata": {},
   "outputs": [],
   "source": [
    "import sys\n",
    "sys.path.insert(0, \"/Users/rodrigo/google_drive/code/\")\n",
    "\n",
    "from astropy import units as u\n",
    "from astropy.coordinates import SkyCoord\n",
    "from astropy.io import votable, ascii\n",
    "import json\n",
    "import numpy as np\n",
    "from types import SimpleNamespace\n",
    "from astropy.table import Table, vstack\n",
    "import ps_api"
   ]
  },
  {
   "cell_type": "markdown",
   "metadata": {},
   "source": [
    "### SQL query on MAST"
   ]
  },
  {
   "cell_type": "code",
   "execution_count": 2,
   "metadata": {},
   "outputs": [],
   "source": [
    "def z_cat_query(tl, br):\n",
    "    string = \"select * from catalogRecordRowStore where raMean>{:.2f} and raMean<{:.2f} and decMean>{:.2f} and decMean<{:.2f}\".format(br[0], tl[0], br[1], tl[1])\n",
    "    return string"
   ]
  },
  {
   "cell_type": "code",
   "execution_count": 3,
   "metadata": {},
   "outputs": [],
   "source": [
    "def sexa_to_deci(c):\n",
    "    sc = SkyCoord(c, unit=(u.hourangle, u.deg))\n",
    "    return sc.ra.deg, sc.dec.deg"
   ]
  },
  {
   "cell_type": "code",
   "execution_count": 5,
   "metadata": {},
   "outputs": [
    {
     "name": "stdout",
     "output_type": "stream",
     "text": [
      "select * from catalogRecordRowStore where raMean>4.55 and raMean<5.19 and decMean>3.29 and decMean<3.88\n"
     ]
    }
   ],
   "source": [
    "tl = sexa_to_deci(\"00:20:46.1004178 +03:52:35.623592\")\n",
    "br = sexa_to_deci(\"00:18:12.1136067 +03:17:38.998089\")\n",
    "print(z_cat_query(tl, br))"
   ]
  },
  {
   "cell_type": "markdown",
   "metadata": {},
   "source": [
    "### Preparing prioritize.py input"
   ]
  },
  {
   "cell_type": "markdown",
   "metadata": {},
   "source": [
    "Mask A"
   ]
  },
  {
   "cell_type": "code",
   "execution_count": 4,
   "metadata": {},
   "outputs": [
    {
     "name": "stdout",
     "output_type": "stream",
     "text": [
      "hour degree\n",
      "1.161748760638889 33.0670474025\n",
      "\n",
      "degree degree\n",
      "17.42623140958333 33.0670474025\n"
     ]
    }
   ],
   "source": [
    "center = \"01:09:42.2955383 +33:04:01.370649\"\n",
    "sc = SkyCoord(center, unit=(u.hourangle, u.deg))\n",
    "print('hour degree')\n",
    "print(sc.ra.hour, sexa_to_deci(center)[1])\n",
    "print('\\ndegree degree')\n",
    "print(*sexa_to_deci(center))"
   ]
  },
  {
   "cell_type": "markdown",
   "metadata": {},
   "source": [
    "Mask B: not in the cluster! Will use the same as mask"
   ]
  },
  {
   "cell_type": "code",
   "execution_count": 4,
   "metadata": {},
   "outputs": [
    {
     "name": "stdout",
     "output_type": "stream",
     "text": [
      "hour deg:\n",
      "2.8009153333333336 -2.26593\n",
      "\n",
      "deg deg:\n",
      "42.013729999999995 -2.26593\n"
     ]
    }
   ],
   "source": [
    "center = \"02:48:03.2952000 -02:15:57.348000\"\n",
    "sc = SkyCoord(center, unit=(u.hourangle, u.deg))\n",
    "print('hour deg:')\n",
    "print(sc.ra.hour, sexa_to_deci(center)[1])\n",
    "print('\\ndeg deg:')\n",
    "print(*sexa_to_deci(center))"
   ]
  },
  {
   "cell_type": "markdown",
   "metadata": {},
   "source": [
    "Cluster center (for axis)"
   ]
  },
  {
   "cell_type": "code",
   "execution_count": 14,
   "metadata": {},
   "outputs": [
    {
     "name": "stdout",
     "output_type": "stream",
     "text": [
      "\n",
      "deg deg:\n",
      "4.909949823333332 3.607708264166667\n"
     ]
    }
   ],
   "source": [
    "center = \"00:19:38.3879576 +03:36:27.749751\"\n",
    "sc = SkyCoord(center, unit=(u.hourangle, u.deg))\n",
    "# print('hour deg:')\n",
    "# print(sc.ra.hour, sexa_to_deci(center)[1])\n",
    "print('\\ndeg deg:')\n",
    "print(*sexa_to_deci(center))"
   ]
  },
  {
   "cell_type": "markdown",
   "metadata": {},
   "source": [
    "### Downloading the PS catalog"
   ]
  },
  {
   "cell_type": "code",
   "execution_count": 5,
   "metadata": {},
   "outputs": [
    {
     "data": {
      "text/plain": [
       "(17.42623140958333, 33.0670474025)"
      ]
     },
     "execution_count": 5,
     "metadata": {},
     "output_type": "execute_result"
    }
   ],
   "source": [
    "# cl_pos = ps_api.resolve('RMJ000343.8+100123.8')\n",
    "cl_pos = sexa_to_deci(center)\n",
    "cl_pos"
   ]
  },
  {
   "cell_type": "code",
   "execution_count": 6,
   "metadata": {},
   "outputs": [],
   "source": [
    "# radius = (9 * u.arcmin).to(u.deg).value\n",
    "radius = (12 * u.arcmin).to(u.deg).value\n",
    "# radius = .03"
   ]
  },
  {
   "cell_type": "code",
   "execution_count": 7,
   "metadata": {},
   "outputs": [],
   "source": [
    "# constraints = {'nDetections.gt':1, 'rMeanKronMag.gt':-990}\n",
    "# constraints = {'rMeanKronMag.gt':-990}\n",
    "# constraints = {'nDetections.gt':10}\n",
    "constraints = {'nDetections.gt':1}\n",
    "# constraints = {}"
   ]
  },
  {
   "cell_type": "code",
   "execution_count": 8,
   "metadata": {},
   "outputs": [],
   "source": [
    "columns = \"\"\"objID,raMean,decMean,rMeanKronMag,nDetections\"\"\".split(',')\n",
    "# strip blanks and weed out blank and commented-out values\n",
    "columns = [x.strip() for x in columns]\n",
    "columns = [x for x in columns if x and not x.startswith('#')]"
   ]
  },
  {
   "cell_type": "code",
   "execution_count": 9,
   "metadata": {},
   "outputs": [
    {
     "ename": "HTTPError",
     "evalue": "504 Server Error: Gateway Time-out for url: https://catalogs.mast.stsci.edu/api/v0.1/panstarrs/dr1/mean/metadata",
     "output_type": "error",
     "traceback": [
      "\u001b[0;31m---------------------------------------------------------------------------\u001b[0m",
      "\u001b[0;31mHTTPError\u001b[0m                                 Traceback (most recent call last)",
      "\u001b[1;32m/Volumes/GoogleDrive/My Drive/research/deimos/deimos0923_mask_design/RMJ0109/mask0109.ipynb Cell 18\u001b[0m in \u001b[0;36m<cell line: 1>\u001b[0;34m()\u001b[0m\n\u001b[0;32m----> <a href='vscode-notebook-cell:/Volumes/GoogleDrive/My%20Drive/research/deimos/deimos0923_mask_design/RMJ0109/mask0109.ipynb#X23sZmlsZQ%3D%3D?line=0'>1</a>\u001b[0m results \u001b[39m=\u001b[39m ps_api\u001b[39m.\u001b[39;49mps1cone(\u001b[39m*\u001b[39;49mcl_pos, radius, columns\u001b[39m=\u001b[39;49mcolumns, \u001b[39m*\u001b[39;49m\u001b[39m*\u001b[39;49mconstraints)\n",
      "File \u001b[0;32m~/google_drive/code/ps_api.py:49\u001b[0m, in \u001b[0;36mps1cone\u001b[0;34m(ra, dec, radius, table, release, format, columns, baseurl, verbose, **kw)\u001b[0m\n\u001b[1;32m     47\u001b[0m data[\u001b[39m'\u001b[39m\u001b[39mdec\u001b[39m\u001b[39m'\u001b[39m] \u001b[39m=\u001b[39m dec\n\u001b[1;32m     48\u001b[0m data[\u001b[39m'\u001b[39m\u001b[39mradius\u001b[39m\u001b[39m'\u001b[39m] \u001b[39m=\u001b[39m radius\n\u001b[0;32m---> 49\u001b[0m \u001b[39mreturn\u001b[39;00m ps1search(table\u001b[39m=\u001b[39;49mtable,release\u001b[39m=\u001b[39;49mrelease,\u001b[39mformat\u001b[39;49m\u001b[39m=\u001b[39;49m\u001b[39mformat\u001b[39;49m,columns\u001b[39m=\u001b[39;49mcolumns,\n\u001b[1;32m     50\u001b[0m                 baseurl\u001b[39m=\u001b[39;49mbaseurl, verbose\u001b[39m=\u001b[39;49mverbose, \u001b[39m*\u001b[39;49m\u001b[39m*\u001b[39;49mdata)\n",
      "File \u001b[0;32m~/google_drive/code/ps_api.py:80\u001b[0m, in \u001b[0;36mps1search\u001b[0;34m(table, release, format, columns, baseurl, verbose, **kw)\u001b[0m\n\u001b[1;32m     76\u001b[0m \u001b[39mif\u001b[39;00m columns:\n\u001b[1;32m     77\u001b[0m     \u001b[39m# check that column values are legal\u001b[39;00m\n\u001b[1;32m     78\u001b[0m     \u001b[39m# create a dictionary to speed this up\u001b[39;00m\n\u001b[1;32m     79\u001b[0m     dcols \u001b[39m=\u001b[39m {}\n\u001b[0;32m---> 80\u001b[0m     \u001b[39mfor\u001b[39;00m col \u001b[39min\u001b[39;00m ps1metadata(table,release)[\u001b[39m'\u001b[39m\u001b[39mname\u001b[39m\u001b[39m'\u001b[39m]:\n\u001b[1;32m     81\u001b[0m         dcols[col\u001b[39m.\u001b[39mlower()] \u001b[39m=\u001b[39m \u001b[39m1\u001b[39m\n\u001b[1;32m     82\u001b[0m     badcols \u001b[39m=\u001b[39m []\n",
      "File \u001b[0;32m~/google_drive/code/ps_api.py:138\u001b[0m, in \u001b[0;36mps1metadata\u001b[0;34m(table, release, baseurl)\u001b[0m\n\u001b[1;32m    136\u001b[0m url \u001b[39m=\u001b[39m \u001b[39mf\u001b[39m\u001b[39m\"\u001b[39m\u001b[39m{\u001b[39;00mbaseurl\u001b[39m}\u001b[39;00m\u001b[39m/\u001b[39m\u001b[39m{\u001b[39;00mrelease\u001b[39m}\u001b[39;00m\u001b[39m/\u001b[39m\u001b[39m{\u001b[39;00mtable\u001b[39m}\u001b[39;00m\u001b[39m/metadata\u001b[39m\u001b[39m\"\u001b[39m\n\u001b[1;32m    137\u001b[0m r \u001b[39m=\u001b[39m requests\u001b[39m.\u001b[39mget(url)\n\u001b[0;32m--> 138\u001b[0m r\u001b[39m.\u001b[39;49mraise_for_status()\n\u001b[1;32m    139\u001b[0m v \u001b[39m=\u001b[39m r\u001b[39m.\u001b[39mjson()\n\u001b[1;32m    140\u001b[0m \u001b[39m# convert to astropy table\u001b[39;00m\n",
      "File \u001b[0;32m~/Application_files/miniconda3/envs/astro2/lib/python3.8/site-packages/requests/models.py:960\u001b[0m, in \u001b[0;36mResponse.raise_for_status\u001b[0;34m(self)\u001b[0m\n\u001b[1;32m    957\u001b[0m     http_error_msg \u001b[39m=\u001b[39m \u001b[39mu\u001b[39m\u001b[39m'\u001b[39m\u001b[39m%s\u001b[39;00m\u001b[39m Server Error: \u001b[39m\u001b[39m%s\u001b[39;00m\u001b[39m for url: \u001b[39m\u001b[39m%s\u001b[39;00m\u001b[39m'\u001b[39m \u001b[39m%\u001b[39m (\u001b[39mself\u001b[39m\u001b[39m.\u001b[39mstatus_code, reason, \u001b[39mself\u001b[39m\u001b[39m.\u001b[39murl)\n\u001b[1;32m    959\u001b[0m \u001b[39mif\u001b[39;00m http_error_msg:\n\u001b[0;32m--> 960\u001b[0m     \u001b[39mraise\u001b[39;00m HTTPError(http_error_msg, response\u001b[39m=\u001b[39m\u001b[39mself\u001b[39m)\n",
      "\u001b[0;31mHTTPError\u001b[0m: 504 Server Error: Gateway Time-out for url: https://catalogs.mast.stsci.edu/api/v0.1/panstarrs/dr1/mean/metadata"
     ]
    }
   ],
   "source": [
    "results = ps_api.ps1cone(*cl_pos, radius, columns=columns, **constraints)\n",
    "# try including release=\"dr2\" as an argument"
   ]
  },
  {
   "cell_type": "code",
   "execution_count": 13,
   "metadata": {},
   "outputs": [],
   "source": [
    "with open('ps_api_res_nDetections1.csv', 'w') as f:\n",
    "    f.write(results)"
   ]
  },
  {
   "cell_type": "markdown",
   "metadata": {},
   "source": [
    "### Converting archival redshift file into csv"
   ]
  },
  {
   "cell_type": "code",
   "execution_count": 6,
   "metadata": {},
   "outputs": [],
   "source": [
    "archival = ascii.read('archivalz.txt', names = ['RA', 'DEC', 'z', 'delta_z'])\n",
    "archival.write('archivalz.csv', format='ascii.csv')"
   ]
  },
  {
   "cell_type": "markdown",
   "metadata": {},
   "source": [
    "### Converting output.txt into catalog"
   ]
  },
  {
   "cell_type": "code",
   "execution_count": 7,
   "metadata": {},
   "outputs": [],
   "source": [
    "io_dir = '1/dsim/'\n",
    "# io_dir = '2/dsim/'\n",
    "columns = ['OBJNAME', 'RA', 'DEC', 'EQX', 'MAG', 'band', 'PCODE', 'LIST', 'SEL?', 'PA', 'L1', 'L2']\n",
    "dtype = []\n",
    "\n",
    "for column in columns:\n",
    "    if column=='SEL?':\n",
    "        dtype.append('i4')\n",
    "    else:\n",
    "        dtype.append('<U12')\n",
    "\n",
    "def read_target_file(filename):\n",
    "    with open(filename,'r') as targets:\n",
    "        lines = targets.readlines()\n",
    "\n",
    "    align = []\n",
    "    targets = []\n",
    "    for line in lines:\n",
    "        line_data = line.strip().split()\n",
    "        if len(line_data)==9:\n",
    "            align.append(line_data)\n",
    "        elif len(line_data)==10:\n",
    "            targets.append(line_data)\n",
    "    return align, targets\n"
   ]
  },
  {
   "cell_type": "code",
   "execution_count": 8,
   "metadata": {},
   "outputs": [],
   "source": [
    "infilename = \"{}output.txt\".format(io_dir)\n",
    "out_selected = \"{}selected.csv\".format(io_dir)\n",
    "out_not_selected = \"{}not_selected.csv\".format(io_dir)\n",
    "out_align = \"{}align.csv\".format(io_dir)"
   ]
  },
  {
   "cell_type": "code",
   "execution_count": 9,
   "metadata": {},
   "outputs": [],
   "source": [
    "align, targets = read_target_file(infilename)"
   ]
  },
  {
   "cell_type": "code",
   "execution_count": 10,
   "metadata": {},
   "outputs": [],
   "source": [
    "df_targets = Table(np.array(targets), names=columns[:-2], dtype=dtype[:-2])\n",
    "df_align = Table(np.array(align[:-1]), names=columns[:-3], dtype=dtype[:-3])"
   ]
  },
  {
   "cell_type": "code",
   "execution_count": 26,
   "metadata": {},
   "outputs": [],
   "source": [
    "df_targets[df_targets['SEL?']==1].write(out_selected, format='ascii.csv', overwrite=True)\n",
    "df_targets[df_targets['SEL?']==0].write(out_not_selected, format='ascii.csv', overwrite=True)\n",
    "df_align.write(out_align, format='ascii.csv', overwrite=True)"
   ]
  },
  {
   "cell_type": "code",
   "execution_count": 11,
   "metadata": {},
   "outputs": [
    {
     "data": {
      "text/html": [
       "<div><i>Table length=83</i>\n",
       "<table id=\"table140727775919264\" class=\"table-striped table-bordered table-condensed\">\n",
       "<thead><tr><th>OBJNAME</th><th>RA</th><th>DEC</th><th>EQX</th><th>MAG</th><th>band</th><th>PCODE</th><th>LIST</th><th>SEL?</th><th>PA</th></tr></thead>\n",
       "<thead><tr><th>str12</th><th>str12</th><th>str12</th><th>str12</th><th>str12</th><th>str12</th><th>str12</th><th>str12</th><th>int32</th><th>str12</th></tr></thead>\n",
       "<tr><td>1791208723</td><td>23:20:42.981</td><td>+29:07:54.50</td><td>2000.0</td><td>21.51</td><td>r</td><td>481</td><td>1</td><td>1</td><td>87</td></tr>\n",
       "<tr><td>2163387393</td><td>23:20:51.914</td><td>+29:07:50.51</td><td>2000.0</td><td>20.89</td><td>r</td><td>119</td><td>1</td><td>1</td><td>87</td></tr>\n",
       "<tr><td>1709834434</td><td>23:20:41.039</td><td>+29:08:11.42</td><td>2000.0</td><td>21.00</td><td>r</td><td>1685</td><td>1</td><td>1</td><td>87</td></tr>\n",
       "<tr><td>1875431500</td><td>23:20:45.030</td><td>+29:08:32.29</td><td>2000.0</td><td>21.63</td><td>r</td><td>1136</td><td>1</td><td>1</td><td>87</td></tr>\n",
       "<tr><td>2100804805</td><td>23:20:50.423</td><td>+29:09:12.67</td><td>2000.0</td><td>21.00</td><td>r</td><td>5490</td><td>1</td><td>1</td><td>87</td></tr>\n",
       "<tr><td>2417443004</td><td>23:20:58.035</td><td>+29:09:07.62</td><td>2000.0</td><td>21.54</td><td>r</td><td>1474</td><td>1</td><td>1</td><td>87</td></tr>\n",
       "<tr><td>2037738950</td><td>23:20:48.912</td><td>+29:09:55.21</td><td>2000.0</td><td>21.21</td><td>r</td><td>2045</td><td>1</td><td>1</td><td>87</td></tr>\n",
       "<tr><td>1905801192</td><td>23:20:45.749</td><td>+29:10:01.93</td><td>2000.0</td><td>21.06</td><td>r</td><td>4577</td><td>1</td><td>1</td><td>87</td></tr>\n",
       "<tr><td>1960693808</td><td>23:20:47.037</td><td>+29:10:10.27</td><td>2000.0</td><td>20.99</td><td>r</td><td>4209</td><td>1</td><td>1</td><td>87</td></tr>\n",
       "<tr><td>2134244240</td><td>23:20:51.217</td><td>+29:10:11.04</td><td>2000.0</td><td>20.44</td><td>r</td><td>2635</td><td>1</td><td>1</td><td>87</td></tr>\n",
       "<tr><td>...</td><td>...</td><td>...</td><td>...</td><td>...</td><td>...</td><td>...</td><td>...</td><td>...</td><td>...</td></tr>\n",
       "<tr><td>3521891723</td><td>23:21:24.538</td><td>+29:18:03.73</td><td>2000.0</td><td>21.92</td><td>r</td><td>395</td><td>1</td><td>1</td><td>87</td></tr>\n",
       "<tr><td>3349271178</td><td>23:21:20.379</td><td>+29:18:31.55</td><td>2000.0</td><td>21.51</td><td>r</td><td>2409</td><td>1</td><td>1</td><td>87</td></tr>\n",
       "<tr><td>3699004241</td><td>23:21:28.757</td><td>+29:18:41.56</td><td>2000.0</td><td>21.47</td><td>r</td><td>1116</td><td>1</td><td>1</td><td>87</td></tr>\n",
       "<tr><td>3705746867</td><td>23:21:28.929</td><td>+29:18:48.74</td><td>2000.0</td><td>21.80</td><td>r</td><td>1314</td><td>1</td><td>1</td><td>87</td></tr>\n",
       "<tr><td>3750148548</td><td>23:21:30.024</td><td>+29:18:54.06</td><td>2000.0</td><td>21.66</td><td>r</td><td>314</td><td>1</td><td>1</td><td>87</td></tr>\n",
       "<tr><td>3514152799</td><td>23:21:24.333</td><td>+29:19:06.61</td><td>2000.0</td><td>21.87</td><td>r</td><td>5</td><td>1</td><td>1</td><td>87</td></tr>\n",
       "<tr><td>3872144351</td><td>23:21:32.931</td><td>+29:19:11.37</td><td>2000.0</td><td>20.85</td><td>r</td><td>4733</td><td>1</td><td>1</td><td>87</td></tr>\n",
       "<tr><td>1881907512</td><td>23:20:45.159</td><td>+29:06:50.78</td><td>2000.0</td><td>20.67</td><td>r</td><td>530</td><td>1</td><td>1</td><td>87</td></tr>\n",
       "<tr><td>1809270231</td><td>23:20:43.410</td><td>+29:06:59.09</td><td>2000.0</td><td>21.15</td><td>r</td><td>2715</td><td>1</td><td>1</td><td>87</td></tr>\n",
       "<tr><td>2067547683</td><td>23:20:49.618</td><td>+29:07:21.66</td><td>2000.0</td><td>21.35</td><td>r</td><td>1391</td><td>1</td><td>1</td><td>87</td></tr>\n",
       "</table></div>"
      ],
      "text/plain": [
       "<Table length=83>\n",
       " OBJNAME        RA          DEC       EQX    MAG   band PCODE  LIST  SEL?   PA \n",
       "  str12       str12        str12     str12  str12 str12 str12 str12 int32 str12\n",
       "---------- ------------ ------------ ------ ----- ----- ----- ----- ----- -----\n",
       "1791208723 23:20:42.981 +29:07:54.50 2000.0 21.51     r   481     1     1    87\n",
       "2163387393 23:20:51.914 +29:07:50.51 2000.0 20.89     r   119     1     1    87\n",
       "1709834434 23:20:41.039 +29:08:11.42 2000.0 21.00     r  1685     1     1    87\n",
       "1875431500 23:20:45.030 +29:08:32.29 2000.0 21.63     r  1136     1     1    87\n",
       "2100804805 23:20:50.423 +29:09:12.67 2000.0 21.00     r  5490     1     1    87\n",
       "2417443004 23:20:58.035 +29:09:07.62 2000.0 21.54     r  1474     1     1    87\n",
       "2037738950 23:20:48.912 +29:09:55.21 2000.0 21.21     r  2045     1     1    87\n",
       "1905801192 23:20:45.749 +29:10:01.93 2000.0 21.06     r  4577     1     1    87\n",
       "1960693808 23:20:47.037 +29:10:10.27 2000.0 20.99     r  4209     1     1    87\n",
       "2134244240 23:20:51.217 +29:10:11.04 2000.0 20.44     r  2635     1     1    87\n",
       "       ...          ...          ...    ...   ...   ...   ...   ...   ...   ...\n",
       "3521891723 23:21:24.538 +29:18:03.73 2000.0 21.92     r   395     1     1    87\n",
       "3349271178 23:21:20.379 +29:18:31.55 2000.0 21.51     r  2409     1     1    87\n",
       "3699004241 23:21:28.757 +29:18:41.56 2000.0 21.47     r  1116     1     1    87\n",
       "3705746867 23:21:28.929 +29:18:48.74 2000.0 21.80     r  1314     1     1    87\n",
       "3750148548 23:21:30.024 +29:18:54.06 2000.0 21.66     r   314     1     1    87\n",
       "3514152799 23:21:24.333 +29:19:06.61 2000.0 21.87     r     5     1     1    87\n",
       "3872144351 23:21:32.931 +29:19:11.37 2000.0 20.85     r  4733     1     1    87\n",
       "1881907512 23:20:45.159 +29:06:50.78 2000.0 20.67     r   530     1     1    87\n",
       "1809270231 23:20:43.410 +29:06:59.09 2000.0 21.15     r  2715     1     1    87\n",
       "2067547683 23:20:49.618 +29:07:21.66 2000.0 21.35     r  1391     1     1    87"
      ]
     },
     "execution_count": 11,
     "metadata": {},
     "output_type": "execute_result"
    }
   ],
   "source": [
    "df_targets[df_targets['SEL?']==1]"
   ]
  }
 ],
 "metadata": {
  "kernelspec": {
   "display_name": "astro2",
   "language": "python",
   "name": "python3"
  },
  "language_info": {
   "codemirror_mode": {
    "name": "ipython",
    "version": 3
   },
   "file_extension": ".py",
   "mimetype": "text/x-python",
   "name": "python",
   "nbconvert_exporter": "python",
   "pygments_lexer": "ipython3",
   "version": "3.8.13"
  },
  "orig_nbformat": 4
 },
 "nbformat": 4,
 "nbformat_minor": 2
}
