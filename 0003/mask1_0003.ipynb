{
 "cells": [
  {
   "cell_type": "code",
   "execution_count": 84,
   "metadata": {},
   "outputs": [],
   "source": [
    "from astropy import units as u\n",
    "from astropy.coordinates import SkyCoord\n",
    "from astropy.io import votable, ascii\n",
    "# import h5py\n",
    "import json\n",
    "import numpy as np\n",
    "from types import SimpleNamespace"
   ]
  },
  {
   "cell_type": "markdown",
   "metadata": {},
   "source": [
    "### SQL query on MAST"
   ]
  },
  {
   "cell_type": "code",
   "execution_count": 12,
   "metadata": {},
   "outputs": [],
   "source": [
    "def z_cat_query(tl, br):\n",
    "    string = \"select * from catalogRecordRowStore where raMean>{:.2f} and raMean<{:.2f} and decMean>{:.2f} and decMean<{:.2f}\".format(br[0], tl[0], br[1], tl[1])\n",
    "    return string"
   ]
  },
  {
   "cell_type": "code",
   "execution_count": 3,
   "metadata": {},
   "outputs": [],
   "source": [
    "def sexa_to_deci(c):\n",
    "    sc = SkyCoord(c, unit=(u.hourangle, u.deg))\n",
    "    return sc.ra.deg, sc.dec.deg"
   ]
  },
  {
   "cell_type": "code",
   "execution_count": 13,
   "metadata": {},
   "outputs": [],
   "source": [
    "br = sexa_to_deci(\"00:03:19.1890576 +09:54:13.899849\")\n",
    "tl = sexa_to_deci(\"00:04:35.3301991 +10:12:15.172584\")"
   ]
  },
  {
   "cell_type": "code",
   "execution_count": 7,
   "metadata": {},
   "outputs": [
    {
     "name": "stdout",
     "output_type": "stream",
     "text": [
      "test<0.83\n"
     ]
    }
   ],
   "source": [
    "print(\"test<{:.2f}\".format(br[0]))"
   ]
  },
  {
   "cell_type": "code",
   "execution_count": 14,
   "metadata": {},
   "outputs": [
    {
     "name": "stdout",
     "output_type": "stream",
     "text": [
      "select * from catalogRecordRowStore where raMean>0.83 and raMean<1.15 and decMean>9.90 and decMean<10.20\n"
     ]
    }
   ],
   "source": [
    "print(z_cat_query(tl, br))"
   ]
  },
  {
   "cell_type": "markdown",
   "metadata": {},
   "source": [
    "### Preparing prioritize.py input"
   ]
  },
  {
   "cell_type": "code",
   "execution_count": 96,
   "metadata": {},
   "outputs": [
    {
     "name": "stdout",
     "output_type": "stream",
     "text": [
      "(0.9530108216666666, 10.030184826666668)\n"
     ]
    }
   ],
   "source": [
    "# center = \"00:03:52.6853271 +10:04:00.687612\"\n",
    "center = \"00:03:48.7225972 +10:01:48.665376\"\n",
    "# guide = 1237678906782974123\n",
    "# align = []\n",
    "print(sexa_to_deci(center))"
   ]
  },
  {
   "cell_type": "code",
   "execution_count": 39,
   "metadata": {},
   "outputs": [],
   "source": [
    "votb = (votable.parse_single_table(source='sdss8.xml')).to_table()"
   ]
  },
  {
   "cell_type": "code",
   "execution_count": 42,
   "metadata": {},
   "outputs": [
    {
     "data": {
      "text/html": [
       "<div><i>Table length=1</i>\n",
       "<table id=\"table140593521720864\" class=\"table-striped table-bordered table-condensed\">\n",
       "<thead><tr><th>_RAJ2000</th><th>_DEJ2000</th><th>rmag</th></tr></thead>\n",
       "<thead><tr><th>deg</th><th>deg</th><th>mag</th></tr></thead>\n",
       "<thead><tr><th>float64</th><th>float64</th><th>float32</th></tr></thead>\n",
       "<tr><td>1.08345800</td><td>10.07273700</td><td>16.396</td></tr>\n",
       "</table></div>"
      ],
      "text/plain": [
       "<Table length=1>\n",
       "  _RAJ2000     _DEJ2000     rmag \n",
       "    deg          deg        mag  \n",
       "  float64      float64    float32\n",
       "------------ ------------ -------\n",
       "  1.08345800  10.07273700  16.396"
      ]
     },
     "execution_count": 42,
     "metadata": {},
     "output_type": "execute_result"
    }
   ],
   "source": [
    "votb[votb['objID']==guide]['_RAJ2000', '_DEJ2000', 'rmag']"
   ]
  },
  {
   "cell_type": "code",
   "execution_count": 38,
   "metadata": {},
   "outputs": [
    {
     "data": {
      "text/plain": [
       "1237678906782974123"
      ]
     },
     "execution_count": 38,
     "metadata": {},
     "output_type": "execute_result"
    }
   ],
   "source": [
    "guide"
   ]
  },
  {
   "cell_type": "code",
   "execution_count": 45,
   "metadata": {},
   "outputs": [],
   "source": [
    "archivez = ascii.read('archivez.csv')"
   ]
  },
  {
   "cell_type": "code",
   "execution_count": 52,
   "metadata": {},
   "outputs": [
    {
     "data": {
      "text/plain": [
       "[0.93249,\n",
       " 0.92447,\n",
       " 0.94994,\n",
       " 0.93804,\n",
       " 0.95263,\n",
       " 0.95326,\n",
       " 0.96106,\n",
       " 0.89773,\n",
       " 0.89773,\n",
       " 0.892,\n",
       " 0.85752,\n",
       " 0.95566,\n",
       " 0.8243,\n",
       " 1.09676,\n",
       " 0.85188]"
      ]
     },
     "execution_count": 52,
     "metadata": {},
     "output_type": "execute_result"
    }
   ],
   "source": [
    "list(archivez['RA'].data)"
   ]
  },
  {
   "cell_type": "markdown",
   "metadata": {},
   "source": [
    "### Creating input file for prioritize.py"
   ]
  },
  {
   "cell_type": "code",
   "execution_count": 58,
   "metadata": {},
   "outputs": [],
   "source": [
    "# RMJ 0003: USER MUST CHANGE THESE\n",
    "maskRA = 0.96952219625\n",
    "maskDEC = 10.06685767\n",
    "zclust=0.37\n",
    "slitPA=-2\n",
    "BCGmag = 18.288\n",
    "guideRA,guideDEC,guidemag = (001.08345800, +10.07273700, 16.396)\n",
    "cosdec = np.cos(np.radians(guideDEC))\n",
    "aligninfo = [[000.94828400, +09.96222900, 15.765],\n",
    "            [001.05096900, +10.17006100, 16.073],\n",
    "            [001.09680700, +10.13814800, 16.484],\n",
    "            [001.06405100, +10.16007700, 18.052],\n",
    "            [000.90873600, +09.97891300, 18.173],\n",
    "            [001.06154100, +10.17188100, 19.690]]\n",
    "specialtargets = []"
   ]
  },
  {
   "cell_type": "code",
   "execution_count": 88,
   "metadata": {},
   "outputs": [],
   "source": [
    "json_data = {'maskRA': 0.96952219625,\n",
    "'maskDEC': 10.06685767,\n",
    "'zclust': 0.37,\n",
    "'slitPA': -2,\n",
    "'BCGmag': 18.288,\n",
    "'guide': (001.08345800, +10.07273700, 16.396),\n",
    "'cosdec': np.cos(np.radians(guideDEC)),\n",
    "'aligninfo': [[000.94828400, +09.96222900, 15.765],\n",
    "            [001.05096900, +10.17006100, 16.073],\n",
    "            [001.09680700, +10.13814800, 16.484],\n",
    "            [001.06405100, +10.16007700, 18.052],\n",
    "            [000.90873600, +09.97891300, 18.173],\n",
    "            [001.06154100, +10.17188100, 19.690]],\n",
    "'specialtargets': []}"
   ]
  },
  {
   "cell_type": "code",
   "execution_count": 89,
   "metadata": {},
   "outputs": [],
   "source": [
    "with open(\"file.json\", 'w') as f:\n",
    "    json.dump(json_data, f, indent=2)"
   ]
  },
  {
   "cell_type": "code",
   "execution_count": 91,
   "metadata": {},
   "outputs": [],
   "source": [
    "with open(\"file.json\", 'r') as f:\n",
    "    json_data2 = json.load(f)"
   ]
  },
  {
   "cell_type": "code",
   "execution_count": 92,
   "metadata": {},
   "outputs": [
    {
     "data": {
      "text/plain": [
       "{'maskRA': 0.96952219625,\n",
       " 'maskDEC': 10.06685767,\n",
       " 'zclust': 0.37,\n",
       " 'slitPA': -2,\n",
       " 'BCGmag': 18.288,\n",
       " 'guide': [1.083458, 10.072737, 16.396],\n",
       " 'cosdec': 0.9845865131128568,\n",
       " 'aligninfo': [[0.948284, 9.962229, 15.765],\n",
       "  [1.050969, 10.170061, 16.073],\n",
       "  [1.096807, 10.138148, 16.484],\n",
       "  [1.064051, 10.160077, 18.052],\n",
       "  [0.908736, 9.978913, 18.173],\n",
       "  [1.061541, 10.171881, 19.69]],\n",
       " 'specialtargets': []}"
      ]
     },
     "execution_count": 92,
     "metadata": {},
     "output_type": "execute_result"
    }
   ],
   "source": [
    "json_data2"
   ]
  },
  {
   "cell_type": "code",
   "execution_count": 93,
   "metadata": {},
   "outputs": [],
   "source": [
    "v = SimpleNamespace(**json_data2)"
   ]
  },
  {
   "cell_type": "code",
   "execution_count": 86,
   "metadata": {},
   "outputs": [
    {
     "data": {
      "text/plain": [
       "0.96952219625"
      ]
     },
     "execution_count": 86,
     "metadata": {},
     "output_type": "execute_result"
    }
   ],
   "source": [
    "v.maskRA"
   ]
  },
  {
   "cell_type": "code",
   "execution_count": 94,
   "metadata": {},
   "outputs": [],
   "source": [
    "v.guideRA,v.guideDEC,v.guidemag = v.guide"
   ]
  },
  {
   "cell_type": "code",
   "execution_count": 95,
   "metadata": {},
   "outputs": [
    {
     "data": {
      "text/plain": [
       "1.083458"
      ]
     },
     "execution_count": 95,
     "metadata": {},
     "output_type": "execute_result"
    }
   ],
   "source": [
    "v.guideRA"
   ]
  },
  {
   "cell_type": "code",
   "execution_count": 97,
   "metadata": {},
   "outputs": [],
   "source": [
    "votb = (votable.parse_single_table(source='2/align.xml')).to_table()\n",
    "# votb[votb['objID']==guide]['_RAJ2000', '_DEJ2000', 'rmag']"
   ]
  },
  {
   "cell_type": "code",
   "execution_count": 101,
   "metadata": {},
   "outputs": [
    {
     "data": {
      "text/plain": [
       "<TableColumns names=('_RAJ2000','_DEJ2000','_V','mode','q_mode','cl','SDSS8','m_SDSS8','Im','RA_ICRS','DE_ICRS','zsp','umag','e_umag','gmag','e_gmag','rmag','e_rmag','imag','e_imag','zmag','e_zmag','Q','ObsDate','objID')>"
      ]
     },
     "execution_count": 101,
     "metadata": {},
     "output_type": "execute_result"
    }
   ],
   "source": [
    "votb.columns"
   ]
  },
  {
   "cell_type": "code",
   "execution_count": 106,
   "metadata": {},
   "outputs": [
    {
     "name": "stdout",
     "output_type": "stream",
     "text": [
      "[(0.948284, 9.962229, 15.765), (1.001962, 9.969801, 19.387), (0.875299, 10.185863, 15.263), (0.846498, 10.140442, 15.871), (0.859229, 10.16519, 18.891)]\n"
     ]
    }
   ],
   "source": [
    "print(list(votb.iterrows('_RAJ2000','_DEJ2000','rmag')))"
   ]
  },
  {
   "cell_type": "code",
   "execution_count": 108,
   "metadata": {},
   "outputs": [],
   "source": [
    "votb = (votable.parse_single_table(source=\"2/guide.xml\")).to_table()\n"
   ]
  },
  {
   "cell_type": "code",
   "execution_count": 117,
   "metadata": {},
   "outputs": [],
   "source": [
    "zipped = votb.iterrows('_RAJ2000','_DEJ2000','rmag')"
   ]
  },
  {
   "cell_type": "code",
   "execution_count": 119,
   "metadata": {},
   "outputs": [
    {
     "data": {
      "text/plain": [
       "['__class__',\n",
       " '__delattr__',\n",
       " '__dir__',\n",
       " '__doc__',\n",
       " '__eq__',\n",
       " '__format__',\n",
       " '__ge__',\n",
       " '__getattribute__',\n",
       " '__gt__',\n",
       " '__hash__',\n",
       " '__init__',\n",
       " '__init_subclass__',\n",
       " '__iter__',\n",
       " '__le__',\n",
       " '__lt__',\n",
       " '__ne__',\n",
       " '__new__',\n",
       " '__next__',\n",
       " '__reduce__',\n",
       " '__reduce_ex__',\n",
       " '__repr__',\n",
       " '__setattr__',\n",
       " '__sizeof__',\n",
       " '__str__',\n",
       " '__subclasshook__']"
      ]
     },
     "execution_count": 119,
     "metadata": {},
     "output_type": "execute_result"
    }
   ],
   "source": [
    "dir(zipped)"
   ]
  },
  {
   "cell_type": "code",
   "execution_count": 120,
   "metadata": {},
   "outputs": [
    {
     "data": {
      "text/plain": [
       "<zip at 0x7fde7abd5c00>"
      ]
     },
     "execution_count": 120,
     "metadata": {},
     "output_type": "execute_result"
    }
   ],
   "source": [
    "zip(*zipped)"
   ]
  },
  {
   "cell_type": "code",
   "execution_count": 121,
   "metadata": {},
   "outputs": [],
   "source": [
    "v.guideRA,v.guideDEC,v.guidemag = list(votb.iterrows('_RAJ2000','_DEJ2000','rmag'))[0]"
   ]
  },
  {
   "cell_type": "markdown",
   "metadata": {},
   "source": [
    "### Downloading the PS catalog"
   ]
  },
  {
   "cell_type": "code",
   "execution_count": 123,
   "metadata": {},
   "outputs": [],
   "source": [
    "import ps_api"
   ]
  },
  {
   "cell_type": "code",
   "execution_count": 126,
   "metadata": {},
   "outputs": [],
   "source": [
    "cl_pos = ps_api.resolve('RMJ000343.8+100123.8')"
   ]
  },
  {
   "cell_type": "code",
   "execution_count": 146,
   "metadata": {},
   "outputs": [],
   "source": [
    "radius = (9 * u.arcmin).to(u.deg).value\n",
    "# radius = .03"
   ]
  },
  {
   "cell_type": "code",
   "execution_count": 154,
   "metadata": {},
   "outputs": [],
   "source": [
    "# constraints = {'nDetections.gt':1, 'rMeanKronMag.gt':-990}\n",
    "constraints = {'rMeanKronMag.gt':-990}\n",
    "constraints = {}"
   ]
  },
  {
   "cell_type": "code",
   "execution_count": 155,
   "metadata": {},
   "outputs": [],
   "source": [
    "columns = \"\"\"objID,raMean,decMean,rMeanKronMag\"\"\".split(',')\n",
    "# strip blanks and weed out blank and commented-out values\n",
    "columns = [x.strip() for x in columns]\n",
    "columns = [x for x in columns if x and not x.startswith('#')]"
   ]
  },
  {
   "cell_type": "code",
   "execution_count": 156,
   "metadata": {},
   "outputs": [],
   "source": [
    "results = ps_api.ps1cone(*cl_pos, radius, columns=columns, **constraints)\n",
    "# try including release=\"dr2\" as an argument"
   ]
  },
  {
   "cell_type": "code",
   "execution_count": 157,
   "metadata": {},
   "outputs": [],
   "source": [
    "with open('ps_api_res.csv', 'w') as f:\n",
    "    f.write(results)"
   ]
  },
  {
   "cell_type": "code",
   "execution_count": null,
   "metadata": {},
   "outputs": [],
   "source": []
  }
 ],
 "metadata": {
  "kernelspec": {
   "display_name": "astro2",
   "language": "python",
   "name": "python3"
  },
  "language_info": {
   "codemirror_mode": {
    "name": "ipython",
    "version": 3
   },
   "file_extension": ".py",
   "mimetype": "text/x-python",
   "name": "python",
   "nbconvert_exporter": "python",
   "pygments_lexer": "ipython3",
   "version": "3.8.13"
  },
  "orig_nbformat": 4
 },
 "nbformat": 4,
 "nbformat_minor": 2
}
