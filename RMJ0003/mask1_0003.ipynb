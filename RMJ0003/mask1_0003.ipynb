{
 "cells": [
  {
   "cell_type": "code",
   "execution_count": 1,
   "metadata": {},
   "outputs": [],
   "source": [
    "from astropy import units as u\n",
    "from astropy.coordinates import SkyCoord\n",
    "from astropy.io import votable, ascii\n",
    "# import h5py\n",
    "import json\n",
    "import numpy as np\n",
    "from types import SimpleNamespace"
   ]
  },
  {
   "cell_type": "markdown",
   "metadata": {},
   "source": [
    "### SQL query on MAST"
   ]
  },
  {
   "cell_type": "code",
   "execution_count": 3,
   "metadata": {},
   "outputs": [],
   "source": [
    "def z_cat_query(tl, br):\n",
    "    string = \"select * from catalogRecordRowStore where raMean>{:.2f} and raMean<{:.2f} and decMean>{:.2f} and decMean<{:.2f}\".format(br[0], tl[0], br[1], tl[1])\n",
    "    return string"
   ]
  },
  {
   "cell_type": "code",
   "execution_count": 4,
   "metadata": {},
   "outputs": [],
   "source": [
    "def sexa_to_deci(c):\n",
    "    sc = SkyCoord(c, unit=(u.hourangle, u.deg))\n",
    "    return sc.ra.deg, sc.dec.deg"
   ]
  },
  {
   "cell_type": "code",
   "execution_count": 5,
   "metadata": {},
   "outputs": [],
   "source": [
    "br = sexa_to_deci(\"00:03:19.1890576 +09:54:13.899849\")\n",
    "tl = sexa_to_deci(\"00:04:35.3301991 +10:12:15.172584\")"
   ]
  },
  {
   "cell_type": "code",
   "execution_count": 6,
   "metadata": {},
   "outputs": [
    {
     "name": "stdout",
     "output_type": "stream",
     "text": [
      "test<0.83\n"
     ]
    }
   ],
   "source": [
    "print(\"test<{:.2f}\".format(br[0]))"
   ]
  },
  {
   "cell_type": "code",
   "execution_count": 7,
   "metadata": {},
   "outputs": [
    {
     "name": "stdout",
     "output_type": "stream",
     "text": [
      "select * from catalogRecordRowStore where raMean>0.83 and raMean<1.15 and decMean>9.90 and decMean<10.20\n"
     ]
    }
   ],
   "source": [
    "print(z_cat_query(tl, br))"
   ]
  },
  {
   "cell_type": "markdown",
   "metadata": {},
   "source": [
    "### Preparing prioritize.py input"
   ]
  },
  {
   "cell_type": "code",
   "execution_count": 31,
   "metadata": {},
   "outputs": [
    {
     "name": "stdout",
     "output_type": "stream",
     "text": [
      "(0.9537035558333332, 10.069649444166666)\n"
     ]
    }
   ],
   "source": [
    "center = \"00:03:48.8888534 +10:04:10.737999\"\n",
    "# center = \"00:03:50.0443707 +10:04:22.110113\"\n",
    "# guide = 1237678906782974123\n",
    "# align = []\n",
    "print(sexa_to_deci(center))"
   ]
  },
  {
   "cell_type": "code",
   "execution_count": 32,
   "metadata": {},
   "outputs": [
    {
     "data": {
      "text/plain": [
       "0.06358023705555556"
      ]
     },
     "execution_count": 32,
     "metadata": {},
     "output_type": "execute_result"
    }
   ],
   "source": [
    "sc = SkyCoord(center, unit=(u.hourangle, u.deg))\n",
    "sc.ra.hour"
   ]
  },
  {
   "cell_type": "markdown",
   "metadata": {},
   "source": [
    "The following cells are just a test."
   ]
  },
  {
   "cell_type": "code",
   "execution_count": 18,
   "metadata": {},
   "outputs": [],
   "source": [
    "archivalz = ascii.read('archivalz.csv')\n",
    "list(archivalz['RA'].data)"
   ]
  },
  {
   "cell_type": "code",
   "execution_count": 20,
   "metadata": {},
   "outputs": [],
   "source": [
    "v = SimpleNamespace()"
   ]
  },
  {
   "cell_type": "code",
   "execution_count": 26,
   "metadata": {},
   "outputs": [],
   "source": [
    "io_dir = '1/'\n",
    "align = \"{}align.xml\".format(io_dir)\n",
    "try:\n",
    "    votb2 = (votable.parse_single_table(source=align)).to_table()\n",
    "    v.aligninfo = list(votb2.iterrows('_RAJ2000','_DEJ2000','rmag'))\n",
    "except:\n",
    "    raise SystemExit('No align file.')"
   ]
  },
  {
   "cell_type": "code",
   "execution_count": 22,
   "metadata": {},
   "outputs": [
    {
     "data": {
      "text/plain": [
       "<TableColumns names=('_RAJ2000','_DEJ2000','_V','mode','q_mode','cl','SDSS8','m_SDSS8','Im','RA_ICRS','DE_ICRS','zsp','umag','e_umag','gmag','e_gmag','rmag','e_rmag','imag','e_imag','zmag','e_zmag','Q','ObsDate','objID')>"
      ]
     },
     "execution_count": 22,
     "metadata": {},
     "output_type": "execute_result"
    }
   ],
   "source": [
    "votb2.columns"
   ]
  },
  {
   "cell_type": "code",
   "execution_count": 23,
   "metadata": {},
   "outputs": [
    {
     "name": "stdout",
     "output_type": "stream",
     "text": [
      "[(0.948284, 9.962229, 15.765), (1.001962, 9.969801, 19.387), (0.875299, 10.185863, 15.263), (0.846498, 10.140442, 15.871), (0.859229, 10.16519, 18.891)]\n"
     ]
    }
   ],
   "source": [
    "print(list(votb2.iterrows('_RAJ2000','_DEJ2000','rmag')))"
   ]
  },
  {
   "cell_type": "code",
   "execution_count": 24,
   "metadata": {},
   "outputs": [
    {
     "data": {
      "text/plain": [
       "[(0.948284, 9.962229, 15.765),\n",
       " (1.001962, 9.969801, 19.387),\n",
       " (0.875299, 10.185863, 15.263),\n",
       " (0.846498, 10.140442, 15.871),\n",
       " (0.859229, 10.16519, 18.891)]"
      ]
     },
     "execution_count": 24,
     "metadata": {},
     "output_type": "execute_result"
    }
   ],
   "source": [
    "v.aligninfo"
   ]
  },
  {
   "cell_type": "markdown",
   "metadata": {},
   "source": [
    "### Downloading the PS catalog"
   ]
  },
  {
   "cell_type": "code",
   "execution_count": 9,
   "metadata": {},
   "outputs": [],
   "source": [
    "import ps_api"
   ]
  },
  {
   "cell_type": "code",
   "execution_count": 10,
   "metadata": {},
   "outputs": [
    {
     "data": {
      "text/plain": [
       "(0.9537035558333332, 10.069649444166666)"
      ]
     },
     "execution_count": 10,
     "metadata": {},
     "output_type": "execute_result"
    }
   ],
   "source": [
    "# cl_pos = ps_api.resolve('RMJ000343.8+100123.8')\n",
    "cl_pos = sexa_to_deci(center)\n",
    "cl_pos"
   ]
  },
  {
   "cell_type": "code",
   "execution_count": 11,
   "metadata": {},
   "outputs": [],
   "source": [
    "# radius = (9 * u.arcmin).to(u.deg).value\n",
    "radius = (12 * u.arcmin).to(u.deg).value\n",
    "# radius = .03"
   ]
  },
  {
   "cell_type": "code",
   "execution_count": 20,
   "metadata": {},
   "outputs": [],
   "source": [
    "# constraints = {'nDetections.gt':1, 'rMeanKronMag.gt':-990}\n",
    "# constraints = {'rMeanKronMag.gt':-990}\n",
    "constraints = {}"
   ]
  },
  {
   "cell_type": "code",
   "execution_count": 21,
   "metadata": {},
   "outputs": [],
   "source": [
    "columns = \"\"\"objID,raMean,decMean,rMeanKronMag\"\"\".split(',')\n",
    "# strip blanks and weed out blank and commented-out values\n",
    "columns = [x.strip() for x in columns]\n",
    "columns = [x for x in columns if x and not x.startswith('#')]"
   ]
  },
  {
   "cell_type": "code",
   "execution_count": 22,
   "metadata": {},
   "outputs": [],
   "source": [
    "results = ps_api.ps1cone(*cl_pos, radius, columns=columns, **constraints)\n",
    "# try including release=\"dr2\" as an argument"
   ]
  },
  {
   "cell_type": "code",
   "execution_count": 23,
   "metadata": {},
   "outputs": [],
   "source": [
    "with open('ps_api_res.csv', 'w') as f:\n",
    "    f.write(results)"
   ]
  },
  {
   "cell_type": "code",
   "execution_count": null,
   "metadata": {},
   "outputs": [],
   "source": []
  }
 ],
 "metadata": {
  "kernelspec": {
   "display_name": "astro2",
   "language": "python",
   "name": "python3"
  },
  "language_info": {
   "codemirror_mode": {
    "name": "ipython",
    "version": 3
   },
   "file_extension": ".py",
   "mimetype": "text/x-python",
   "name": "python",
   "nbconvert_exporter": "python",
   "pygments_lexer": "ipython3",
   "version": "3.8.13"
  },
  "orig_nbformat": 4
 },
 "nbformat": 4,
 "nbformat_minor": 2
}
