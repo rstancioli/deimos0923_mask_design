{
 "cells": [
  {
   "cell_type": "code",
   "execution_count": 2,
   "metadata": {},
   "outputs": [],
   "source": [
    "from astropy import units as u\n",
    "from astropy.coordinates import SkyCoord\n",
    "from astropy.io import votable, ascii\n",
    "# import h5py\n",
    "import json\n",
    "import numpy as np\n",
    "from types import SimpleNamespace\n",
    "from astropy.table import Table, vstack"
   ]
  },
  {
   "cell_type": "markdown",
   "metadata": {},
   "source": [
    "### SQL query on MAST"
   ]
  },
  {
   "cell_type": "code",
   "execution_count": 3,
   "metadata": {},
   "outputs": [],
   "source": [
    "def z_cat_query(tl, br):\n",
    "    string = \"select * from catalogRecordRowStore where raMean>{:.2f} and raMean<{:.2f} and decMean>{:.2f} and decMean<{:.2f}\".format(br[0], tl[0], br[1], tl[1])\n",
    "    return string"
   ]
  },
  {
   "cell_type": "code",
   "execution_count": 4,
   "metadata": {},
   "outputs": [],
   "source": [
    "def sexa_to_deci(c):\n",
    "    sc = SkyCoord(c, unit=(u.hourangle, u.deg))\n",
    "    return sc.ra.deg, sc.dec.deg"
   ]
  },
  {
   "cell_type": "code",
   "execution_count": 5,
   "metadata": {},
   "outputs": [],
   "source": [
    "br = sexa_to_deci(\"00:03:19.1890576 +09:54:13.899849\")\n",
    "tl = sexa_to_deci(\"00:04:35.3301991 +10:12:15.172584\")"
   ]
  },
  {
   "cell_type": "code",
   "execution_count": 6,
   "metadata": {},
   "outputs": [
    {
     "name": "stdout",
     "output_type": "stream",
     "text": [
      "test<0.83\n"
     ]
    }
   ],
   "source": [
    "print(\"test<{:.2f}\".format(br[0]))"
   ]
  },
  {
   "cell_type": "code",
   "execution_count": 7,
   "metadata": {},
   "outputs": [
    {
     "name": "stdout",
     "output_type": "stream",
     "text": [
      "select * from catalogRecordRowStore where raMean>0.83 and raMean<1.15 and decMean>9.90 and decMean<10.20\n"
     ]
    }
   ],
   "source": [
    "print(z_cat_query(tl, br))"
   ]
  },
  {
   "cell_type": "markdown",
   "metadata": {},
   "source": [
    "### Preparing prioritize.py input"
   ]
  },
  {
   "cell_type": "code",
   "execution_count": 8,
   "metadata": {},
   "outputs": [
    {
     "name": "stdout",
     "output_type": "stream",
     "text": [
      "(0.9537035558333332, 10.069649444166666)\n"
     ]
    },
    {
     "data": {
      "text/plain": [
       "0.06358023705555556"
      ]
     },
     "execution_count": 8,
     "metadata": {},
     "output_type": "execute_result"
    }
   ],
   "source": [
    "center = \"00:03:48.8888534 +10:04:10.737999\"\n",
    "print(sexa_to_deci(center))\n",
    "sc = SkyCoord(center, unit=(u.hourangle, u.deg))\n",
    "sc.ra.hour"
   ]
  },
  {
   "cell_type": "code",
   "execution_count": 9,
   "metadata": {},
   "outputs": [
    {
     "name": "stdout",
     "output_type": "stream",
     "text": [
      "(0.9585182112499999, 10.072808364722222)\n"
     ]
    },
    {
     "data": {
      "text/plain": [
       "0.06390121408333334"
      ]
     },
     "execution_count": 9,
     "metadata": {},
     "output_type": "execute_result"
    }
   ],
   "source": [
    "center = \"00:03:50.0443707 +10:04:22.110113\"\n",
    "print(sexa_to_deci(center))\n",
    "sc = SkyCoord(center, unit=(u.hourangle, u.deg))\n",
    "sc.ra.hour"
   ]
  },
  {
   "cell_type": "markdown",
   "metadata": {},
   "source": [
    "The following cells are just a test."
   ]
  },
  {
   "cell_type": "code",
   "execution_count": 18,
   "metadata": {},
   "outputs": [],
   "source": [
    "archivalz = ascii.read('archivalz.csv')\n",
    "list(archivalz['RA'].data)"
   ]
  },
  {
   "cell_type": "code",
   "execution_count": 20,
   "metadata": {},
   "outputs": [],
   "source": [
    "v = SimpleNamespace()"
   ]
  },
  {
   "cell_type": "code",
   "execution_count": 26,
   "metadata": {},
   "outputs": [],
   "source": [
    "io_dir = '1/'\n",
    "align = \"{}align.xml\".format(io_dir)\n",
    "try:\n",
    "    votb2 = (votable.parse_single_table(source=align)).to_table()\n",
    "    v.aligninfo = list(votb2.iterrows('_RAJ2000','_DEJ2000','rmag'))\n",
    "except:\n",
    "    raise SystemExit('No align file.')"
   ]
  },
  {
   "cell_type": "code",
   "execution_count": 22,
   "metadata": {},
   "outputs": [
    {
     "data": {
      "text/plain": [
       "<TableColumns names=('_RAJ2000','_DEJ2000','_V','mode','q_mode','cl','SDSS8','m_SDSS8','Im','RA_ICRS','DE_ICRS','zsp','umag','e_umag','gmag','e_gmag','rmag','e_rmag','imag','e_imag','zmag','e_zmag','Q','ObsDate','objID')>"
      ]
     },
     "execution_count": 22,
     "metadata": {},
     "output_type": "execute_result"
    }
   ],
   "source": [
    "votb2.columns"
   ]
  },
  {
   "cell_type": "code",
   "execution_count": 23,
   "metadata": {},
   "outputs": [
    {
     "name": "stdout",
     "output_type": "stream",
     "text": [
      "[(0.948284, 9.962229, 15.765), (1.001962, 9.969801, 19.387), (0.875299, 10.185863, 15.263), (0.846498, 10.140442, 15.871), (0.859229, 10.16519, 18.891)]\n"
     ]
    }
   ],
   "source": [
    "print(list(votb2.iterrows('_RAJ2000','_DEJ2000','rmag')))"
   ]
  },
  {
   "cell_type": "code",
   "execution_count": 24,
   "metadata": {},
   "outputs": [
    {
     "data": {
      "text/plain": [
       "[(0.948284, 9.962229, 15.765),\n",
       " (1.001962, 9.969801, 19.387),\n",
       " (0.875299, 10.185863, 15.263),\n",
       " (0.846498, 10.140442, 15.871),\n",
       " (0.859229, 10.16519, 18.891)]"
      ]
     },
     "execution_count": 24,
     "metadata": {},
     "output_type": "execute_result"
    }
   ],
   "source": [
    "v.aligninfo"
   ]
  },
  {
   "cell_type": "markdown",
   "metadata": {},
   "source": [
    "### Converting archival redshift file into csv"
   ]
  },
  {
   "cell_type": "code",
   "execution_count": 69,
   "metadata": {},
   "outputs": [],
   "source": [
    "archival = ascii.read('archivalz.txt', names = ['RA', 'DEC', 'z', 'delta_z'])\n",
    "archival.write('archivalz.csv', format='ascii.csv')"
   ]
  },
  {
   "cell_type": "markdown",
   "metadata": {},
   "source": [
    "### Downloading the PS catalog"
   ]
  },
  {
   "cell_type": "code",
   "execution_count": 12,
   "metadata": {},
   "outputs": [],
   "source": [
    "import ps_api"
   ]
  },
  {
   "cell_type": "code",
   "execution_count": 15,
   "metadata": {},
   "outputs": [
    {
     "data": {
      "text/plain": [
       "(0.9537035558333332, 10.069649444166666)"
      ]
     },
     "execution_count": 15,
     "metadata": {},
     "output_type": "execute_result"
    }
   ],
   "source": [
    "# cl_pos = ps_api.resolve('RMJ000343.8+100123.8')\n",
    "cl_pos = sexa_to_deci(center)\n",
    "cl_pos"
   ]
  },
  {
   "cell_type": "code",
   "execution_count": 16,
   "metadata": {},
   "outputs": [],
   "source": [
    "# radius = (9 * u.arcmin).to(u.deg).value\n",
    "radius = (12 * u.arcmin).to(u.deg).value\n",
    "# radius = .03"
   ]
  },
  {
   "cell_type": "code",
   "execution_count": 25,
   "metadata": {},
   "outputs": [],
   "source": [
    "# constraints = {'nDetections.gt':1, 'rMeanKronMag.gt':-990}\n",
    "# constraints = {'rMeanKronMag.gt':-990}\n",
    "constraints = {'nDetections.gt':10}\n",
    "# constraints = {}"
   ]
  },
  {
   "cell_type": "code",
   "execution_count": 26,
   "metadata": {},
   "outputs": [],
   "source": [
    "columns = \"\"\"objID,raMean,decMean,rMeanKronMag,nDetections\"\"\".split(',')\n",
    "# strip blanks and weed out blank and commented-out values\n",
    "columns = [x.strip() for x in columns]\n",
    "columns = [x for x in columns if x and not x.startswith('#')]"
   ]
  },
  {
   "cell_type": "code",
   "execution_count": 27,
   "metadata": {},
   "outputs": [],
   "source": [
    "results = ps_api.ps1cone(*cl_pos, radius, columns=columns, **constraints)\n",
    "# try including release=\"dr2\" as an argument"
   ]
  },
  {
   "cell_type": "code",
   "execution_count": 28,
   "metadata": {},
   "outputs": [],
   "source": [
    "with open('ps_api_res_nDetections10.csv', 'w') as f:\n",
    "    f.write(results)"
   ]
  },
  {
   "cell_type": "markdown",
   "metadata": {},
   "source": [
    "### Converting output.txt into catalog"
   ]
  },
  {
   "cell_type": "code",
   "execution_count": 22,
   "metadata": {},
   "outputs": [],
   "source": [
    "# io_dir = '1/dsim/'\n",
    "io_dir = '2/dsim/'\n",
    "columns = ['OBJNAME', 'RA', 'DEC', 'EQX', 'MAG', 'band', 'PCODE', 'LIST', 'SEL?', 'PA', 'L1', 'L2']\n",
    "dtype = []\n",
    "\n",
    "for column in columns:\n",
    "    if column=='SEL?':\n",
    "        dtype.append('i4')\n",
    "    else:\n",
    "        dtype.append('<U12')\n",
    "\n",
    "def read_target_file(filename):\n",
    "    with open('{}{}'.format(io_dir, filename),'r') as targets:\n",
    "        lines = targets.readlines()\n",
    "\n",
    "    align = []\n",
    "    targets = []\n",
    "    for line in lines:\n",
    "        line_data = line.strip().split()\n",
    "        if len(line_data)==9:\n",
    "            align.append(line_data)\n",
    "        elif len(line_data)==10:\n",
    "            targets.append(line_data)\n",
    "    return align, targets\n"
   ]
  },
  {
   "cell_type": "code",
   "execution_count": 23,
   "metadata": {},
   "outputs": [],
   "source": [
    "infilename = \"output.txt\".format(io_dir)\n",
    "out_selected = \"{}selected.csv\".format(io_dir)\n",
    "out_not_selected = \"{}not_selected.csv\".format(io_dir)\n",
    "out_align = \"{}align.csv\".format(io_dir)"
   ]
  },
  {
   "cell_type": "code",
   "execution_count": 24,
   "metadata": {},
   "outputs": [],
   "source": [
    "align, targets = read_target_file(infilename)"
   ]
  },
  {
   "cell_type": "code",
   "execution_count": 25,
   "metadata": {},
   "outputs": [],
   "source": [
    "df_targets = Table(np.array(targets), names=columns[:-2], dtype=dtype[:-2])\n",
    "df_align = Table(np.array(align[:-1]), names=columns[:-3], dtype=dtype[:-3])"
   ]
  },
  {
   "cell_type": "code",
   "execution_count": 26,
   "metadata": {},
   "outputs": [],
   "source": [
    "df_targets[df_targets['SEL?']==1].write(out_selected, format='ascii.csv', overwrite=True)\n",
    "df_targets[df_targets['SEL?']==0].write(out_not_selected, format='ascii.csv', overwrite=True)\n",
    "df_align.write(out_align, format='ascii.csv', overwrite=True)"
   ]
  },
  {
   "cell_type": "code",
   "execution_count": 27,
   "metadata": {},
   "outputs": [
    {
     "data": {
      "text/html": [
       "<div><i>Table length=62</i>\n",
       "<table id=\"table140389503697680\" class=\"table-striped table-bordered table-condensed\">\n",
       "<thead><tr><th>OBJNAME</th><th>RA</th><th>DEC</th><th>EQX</th><th>MAG</th><th>band</th><th>PCODE</th><th>LIST</th><th>SEL?</th><th>PA</th></tr></thead>\n",
       "<thead><tr><th>str12</th><th>str12</th><th>str12</th><th>str12</th><th>str12</th><th>str12</th><th>str12</th><th>str12</th><th>int32</th><th>str12</th></tr></thead>\n",
       "<tr><td>9045648334</td><td>00:03:37.158</td><td>+09:57:23.64</td><td>2000.0</td><td>21.00</td><td>r</td><td>637</td><td>1</td><td>1</td><td>-98</td></tr>\n",
       "<tr><td>8541609913</td><td>00:03:25.014</td><td>+09:58:58.10</td><td>2000.0</td><td>20.61</td><td>r</td><td>4961</td><td>1</td><td>1</td><td>-98</td></tr>\n",
       "<tr><td>9363621614</td><td>00:03:44.726</td><td>+09:58:33.22</td><td>2000.0</td><td>20.88</td><td>r</td><td>744</td><td>1</td><td>1</td><td>-98</td></tr>\n",
       "<tr><td>9340009833</td><td>00:03:44.164</td><td>+09:58:27.83</td><td>2000.0</td><td>20.48</td><td>r</td><td>4232</td><td>1</td><td>1</td><td>-98</td></tr>\n",
       "<tr><td>8937131009</td><td>00:03:34.515</td><td>+10:00:01.01</td><td>2000.0</td><td>20.73</td><td>r</td><td>1970</td><td>1</td><td>1</td><td>-98</td></tr>\n",
       "<tr><td>9097560626</td><td>00:03:38.352</td><td>+09:59:30.18</td><td>2000.0</td><td>19.75</td><td>r</td><td>14642</td><td>1</td><td>1</td><td>-98</td></tr>\n",
       "<tr><td>8880001157</td><td>00:03:33.128</td><td>+10:01:31.96</td><td>2000.0</td><td>20.63</td><td>r</td><td>2364</td><td>1</td><td>1</td><td>-98</td></tr>\n",
       "<tr><td>9190586401</td><td>00:03:40.579</td><td>+10:01:47.58</td><td>2000.0</td><td>20.66</td><td>r</td><td>3906</td><td>1</td><td>1</td><td>-98</td></tr>\n",
       "<tr><td>9202491693</td><td>00:03:40.861</td><td>+10:01:33.55</td><td>2000.0</td><td>20.07</td><td>r</td><td>5845</td><td>1</td><td>1</td><td>-98</td></tr>\n",
       "<tr><td>9331360221</td><td>00:03:43.955</td><td>+10:01:29.01</td><td>2000.0</td><td>20.87</td><td>r</td><td>2319</td><td>1</td><td>1</td><td>-98</td></tr>\n",
       "<tr><td>...</td><td>...</td><td>...</td><td>...</td><td>...</td><td>...</td><td>...</td><td>...</td><td>...</td><td>...</td></tr>\n",
       "<tr><td>0646476898</td><td>00:04:15.507</td><td>+10:08:18.96</td><td>2000.0</td><td>20.66</td><td>r</td><td>4456</td><td>1</td><td>1</td><td>-98</td></tr>\n",
       "<tr><td>0050895135</td><td>00:04:01.212</td><td>+10:08:43.59</td><td>2000.0</td><td>21.56</td><td>r</td><td>687</td><td>1</td><td>1</td><td>-98</td></tr>\n",
       "<tr><td>9968235832</td><td>00:03:59.240</td><td>+10:07:15.89</td><td>2000.0</td><td>21.41</td><td>r</td><td>1021</td><td>1</td><td>1</td><td>-98</td></tr>\n",
       "<tr><td>9701548105</td><td>00:03:52.841</td><td>+10:06:52.49</td><td>2000.0</td><td>21.44</td><td>r</td><td>208</td><td>1</td><td>1</td><td>-98</td></tr>\n",
       "<tr><td>0595273734</td><td>00:04:14.285</td><td>+10:06:39.53</td><td>2000.0</td><td>18.97</td><td>r</td><td>146</td><td>1</td><td>1</td><td>-98</td></tr>\n",
       "<tr><td>0209320037</td><td>00:04:05.028</td><td>+10:09:58.20</td><td>2000.0</td><td>18.02</td><td>r</td><td>20</td><td>1</td><td>1</td><td>-98</td></tr>\n",
       "<tr><td>0304055442</td><td>00:04:07.293</td><td>+10:11:14.55</td><td>2000.0</td><td>21.79</td><td>r</td><td>349</td><td>1</td><td>1</td><td>-98</td></tr>\n",
       "<tr><td>0238680606</td><td>00:04:05.723</td><td>+10:10:30.08</td><td>2000.0</td><td>21.14</td><td>r</td><td>851</td><td>1</td><td>1</td><td>-98</td></tr>\n",
       "<tr><td>0300182299</td><td>00:04:07.194</td><td>+10:10:35.24</td><td>2000.0</td><td>21.16</td><td>r</td><td>2056</td><td>1</td><td>1</td><td>-98</td></tr>\n",
       "<tr><td>0310505533</td><td>00:04:07.460</td><td>+10:10:44.77</td><td>2000.0</td><td>20.72</td><td>r</td><td>1113</td><td>1</td><td>1</td><td>-98</td></tr>\n",
       "</table></div>"
      ],
      "text/plain": [
       "<Table length=62>\n",
       " OBJNAME        RA          DEC       EQX    MAG   band PCODE  LIST  SEL?   PA \n",
       "  str12       str12        str12     str12  str12 str12 str12 str12 int32 str12\n",
       "---------- ------------ ------------ ------ ----- ----- ----- ----- ----- -----\n",
       "9045648334 00:03:37.158 +09:57:23.64 2000.0 21.00     r   637     1     1   -98\n",
       "8541609913 00:03:25.014 +09:58:58.10 2000.0 20.61     r  4961     1     1   -98\n",
       "9363621614 00:03:44.726 +09:58:33.22 2000.0 20.88     r   744     1     1   -98\n",
       "9340009833 00:03:44.164 +09:58:27.83 2000.0 20.48     r  4232     1     1   -98\n",
       "8937131009 00:03:34.515 +10:00:01.01 2000.0 20.73     r  1970     1     1   -98\n",
       "9097560626 00:03:38.352 +09:59:30.18 2000.0 19.75     r 14642     1     1   -98\n",
       "8880001157 00:03:33.128 +10:01:31.96 2000.0 20.63     r  2364     1     1   -98\n",
       "9190586401 00:03:40.579 +10:01:47.58 2000.0 20.66     r  3906     1     1   -98\n",
       "9202491693 00:03:40.861 +10:01:33.55 2000.0 20.07     r  5845     1     1   -98\n",
       "9331360221 00:03:43.955 +10:01:29.01 2000.0 20.87     r  2319     1     1   -98\n",
       "       ...          ...          ...    ...   ...   ...   ...   ...   ...   ...\n",
       "0646476898 00:04:15.507 +10:08:18.96 2000.0 20.66     r  4456     1     1   -98\n",
       "0050895135 00:04:01.212 +10:08:43.59 2000.0 21.56     r   687     1     1   -98\n",
       "9968235832 00:03:59.240 +10:07:15.89 2000.0 21.41     r  1021     1     1   -98\n",
       "9701548105 00:03:52.841 +10:06:52.49 2000.0 21.44     r   208     1     1   -98\n",
       "0595273734 00:04:14.285 +10:06:39.53 2000.0 18.97     r   146     1     1   -98\n",
       "0209320037 00:04:05.028 +10:09:58.20 2000.0 18.02     r    20     1     1   -98\n",
       "0304055442 00:04:07.293 +10:11:14.55 2000.0 21.79     r   349     1     1   -98\n",
       "0238680606 00:04:05.723 +10:10:30.08 2000.0 21.14     r   851     1     1   -98\n",
       "0300182299 00:04:07.194 +10:10:35.24 2000.0 21.16     r  2056     1     1   -98\n",
       "0310505533 00:04:07.460 +10:10:44.77 2000.0 20.72     r  1113     1     1   -98"
      ]
     },
     "execution_count": 27,
     "metadata": {},
     "output_type": "execute_result"
    }
   ],
   "source": [
    "df_targets[df_targets['SEL?']==1]"
   ]
  },
  {
   "cell_type": "markdown",
   "metadata": {},
   "source": [
    "### Stacking NED and SDSS catalogs\n",
    "Not used. May contain duplicates."
   ]
  },
  {
   "cell_type": "code",
   "execution_count": 61,
   "metadata": {},
   "outputs": [],
   "source": [
    "david1 = ascii.read('archivalz_david1.csv')\n",
    "ned = ascii.read('archivalz_ned.csv')\n",
    "vstack([david1, ned])"
   ]
  },
  {
   "cell_type": "code",
   "execution_count": null,
   "metadata": {},
   "outputs": [],
   "source": []
  }
 ],
 "metadata": {
  "kernelspec": {
   "display_name": "astro2",
   "language": "python",
   "name": "python3"
  },
  "language_info": {
   "codemirror_mode": {
    "name": "ipython",
    "version": 3
   },
   "file_extension": ".py",
   "mimetype": "text/x-python",
   "name": "python",
   "nbconvert_exporter": "python",
   "pygments_lexer": "ipython3",
   "version": "3.8.13"
  },
  "orig_nbformat": 4
 },
 "nbformat": 4,
 "nbformat_minor": 2
}
